{
 "cells": [
  {
   "cell_type": "code",
   "execution_count": 12,
   "id": "20b73a5f-d723-493d-a3b9-961d9bad33bc",
   "metadata": {},
   "outputs": [
    {
     "data": {
      "text/plain": [
       "{'cumsumfert': 0.0,\n",
       " 'dap': 4379716,\n",
       " 'grnwt': 0.0,\n",
       " 'nfixn': 0.0,\n",
       " 'nstres': 0.0,\n",
       " 'pcnl': 0.0,\n",
       " 'pcnsd': 0.0,\n",
       " 'pltpop': 10.0,\n",
       " 'podwt': 0.0,\n",
       " 'sdlip': 0.11999999731779099,\n",
       " 'sdwt': 0.0,\n",
       " 'shelwt': 0.0,\n",
       " 'swfac': 0.0,\n",
       " 'topwt': 0.0,\n",
       " 'totwt': 0.0,\n",
       " 'turfac': 1.0,\n",
       " 'vstage': 0.0,\n",
       " 'wtntot': 0.0,\n",
       " 'wtnup': 0.0,\n",
       " 'xlai': 0.0}"
      ]
     },
     "execution_count": 12,
     "metadata": {},
     "output_type": "execute_result"
    }
   ],
   "source": [
    "import gym\n",
    "import gym_dssat_pdi\n",
    "import seaborn as sns\n",
    "import pandas as pd\n",
    "import matplotlib.pyplot as plt\n",
    "\n",
    "# First, we instantiate the environment. Here, we will use the fertilization mode..\n",
    "env_args = {\n",
    "    'mode': 'fertilization',\n",
    "    'seed': 123,\n",
    "    'random_weather': True,\n",
    "    'cultivar': 'cotton'\n",
    "}\n",
    "\n",
    "env = gym.make('GymDssatPdi-v0', **env_args)\n",
    "env.observation\n"
   ]
  },
  {
   "cell_type": "code",
   "execution_count": 9,
   "id": "ebe6ed23-842d-4a93-b96f-c6adb17988f6",
   "metadata": {},
   "outputs": [
    {
     "data": {
      "text/plain": [
       "Dict(amir:Box(0.0, 100.0, (), float32), anfer:Box(0.0, 200.0, (), float32))"
      ]
     },
     "execution_count": 9,
     "metadata": {},
     "output_type": "execute_result"
    }
   ],
   "source": [
    "# First, we instantiate the environment. Here, we will use the fertilization mode..\n",
    "env_args = {\n",
    "    'mode': 'all',\n",
    "    'seed': 123,\n",
    "    'random_weather': True,\n",
    "    'cultivar': 'rice'\n",
    "}\n",
    "\n",
    "env = gym.make('GymDssatPdi-v0', **env_args)\n",
    "env.observation\n",
    "env.action_space"
   ]
  },
  {
   "cell_type": "code",
   "execution_count": 10,
   "id": "74c6d930-6791-4905-8a49-e0d77c342591",
   "metadata": {},
   "outputs": [
    {
     "data": {
      "text/plain": [
       "Dict(amir:Box(0.0, 100.0, (), float32), anfer:Box(0.0, 150.0, (), float32))"
      ]
     },
     "execution_count": 10,
     "metadata": {},
     "output_type": "execute_result"
    }
   ],
   "source": [
    "# First, we instantiate the environment. Here, we will use the fertilization mode..\n",
    "env_args = {\n",
    "    'mode': 'all',\n",
    "    'seed': 123,\n",
    "    'random_weather': True,\n",
    "    'cultivar': 'cotton'\n",
    "}\n",
    "\n",
    "env = gym.make('GymDssatPdi-v0', **env_args)\n",
    "env.observation\n",
    "env.action_space"
   ]
  },
  {
   "cell_type": "code",
   "execution_count": null,
   "id": "64c6ccf6-f36e-4ff5-b905-c4083e9e23be",
   "metadata": {},
   "outputs": [],
   "source": []
  }
 ],
 "metadata": {
  "kernelspec": {
   "display_name": "Python 3 (ipykernel)",
   "language": "python",
   "name": "python3"
  },
  "language_info": {
   "codemirror_mode": {
    "name": "ipython",
    "version": 3
   },
   "file_extension": ".py",
   "mimetype": "text/x-python",
   "name": "python",
   "nbconvert_exporter": "python",
   "pygments_lexer": "ipython3",
   "version": "3.10.12"
  }
 },
 "nbformat": 4,
 "nbformat_minor": 5
}
