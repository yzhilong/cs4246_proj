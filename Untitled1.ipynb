{
 "cells": [
  {
   "cell_type": "code",
   "execution_count": 7,
   "id": "20b73a5f-d723-493d-a3b9-961d9bad33bc",
   "metadata": {},
   "outputs": [
    {
     "data": {
      "text/plain": [
       "{'cumsumfert': 0.0,\n",
       " 'dap': 4379716,\n",
       " 'grnwt': 0.0,\n",
       " 'nfixn': 0.0,\n",
       " 'nstres': 0.0,\n",
       " 'pcnl': 0.0,\n",
       " 'pcnsd': 0.0,\n",
       " 'pltpop': 10.0,\n",
       " 'podwt': 0.0,\n",
       " 'sdlip': 0.11999999731779099,\n",
       " 'sdwt': 0.0,\n",
       " 'shelwt': 0.0,\n",
       " 'swfac': 0.0,\n",
       " 'topwt': 0.0,\n",
       " 'totwt': 0.0,\n",
       " 'turfac': 1.0,\n",
       " 'vstage': 0.0,\n",
       " 'wtntot': 0.0,\n",
       " 'wtnup': 0.0,\n",
       " 'xlai': 0.0}"
      ]
     },
     "execution_count": 7,
     "metadata": {},
     "output_type": "execute_result"
    }
   ],
   "source": [
    "import gym\n",
    "import gym_dssat_pdi\n",
    "import seaborn as sns\n",
    "import pandas as pd\n",
    "import matplotlib.pyplot as plt\n",
    "import numpy as np\n",
    "\n",
    "# First, we instantiate the environment. Here, we will use the fertilization mode..\n",
    "env_args = {\n",
    "    'mode': 'fertilization',\n",
    "    'seed': 123,\n",
    "    'random_weather': True,\n",
    "    'cultivar': 'cotton'\n",
    "}\n",
    "\n",
    "env = gym.make('GymDssatPdi-v0', **env_args)\n",
    "env.observation\n"
   ]
  },
  {
   "cell_type": "code",
   "execution_count": 9,
   "id": "ebe6ed23-842d-4a93-b96f-c6adb17988f6",
   "metadata": {},
   "outputs": [
    {
     "data": {
      "text/plain": [
       "Dict(amir:Box(0.0, 100.0, (), float32), anfer:Box(0.0, 200.0, (), float32))"
      ]
     },
     "execution_count": 9,
     "metadata": {},
     "output_type": "execute_result"
    }
   ],
   "source": [
    "# First, we instantiate the environment. Here, we will use the fertilization mode..\n",
    "env_args = {\n",
    "    'mode': 'all',\n",
    "    'seed': 123,\n",
    "    'random_weather': True,\n",
    "    'cultivar': 'rice'\n",
    "}\n",
    "\n",
    "env = gym.make('GymDssatPdi-v0', **env_args)\n",
    "env.observation\n",
    "env.action_space"
   ]
  },
  {
   "cell_type": "code",
   "execution_count": 10,
   "id": "74c6d930-6791-4905-8a49-e0d77c342591",
   "metadata": {},
   "outputs": [
    {
     "data": {
      "text/plain": [
       "Dict(amir:Box(0.0, 100.0, (), float32), anfer:Box(0.0, 150.0, (), float32))"
      ]
     },
     "execution_count": 10,
     "metadata": {},
     "output_type": "execute_result"
    }
   ],
   "source": [
    "# First, we instantiate the environment. Here, we will use the fertilization mode..\n",
    "env_args = {\n",
    "    'mode': 'all',\n",
    "    'seed': 123,\n",
    "    'random_weather': True,\n",
    "    'cultivar': 'cotton'\n",
    "}\n",
    "\n",
    "env = gym.make('GymDssatPdi-v0', **env_args)\n",
    "env.observation\n",
    "env.action_space"
   ]
  },
  {
   "cell_type": "code",
   "execution_count": 10,
   "id": "64c6ccf6-f36e-4ff5-b905-c4083e9e23be",
   "metadata": {},
   "outputs": [
    {
     "ename": "AssertionError",
     "evalue": "",
     "output_type": "error",
     "traceback": [
      "\u001b[0;31m---------------------------------------------------------------------------\u001b[0m",
      "\u001b[0;31mAssertionError\u001b[0m                            Traceback (most recent call last)",
      "Cell \u001b[0;32mIn[10], line 1\u001b[0m\n\u001b[0;32m----> 1\u001b[0m \u001b[43menv\u001b[49m\u001b[38;5;241;43m.\u001b[39;49m\u001b[43mstep\u001b[49m\u001b[43m(\u001b[49m\u001b[43mnp\u001b[49m\u001b[38;5;241;43m.\u001b[39;49m\u001b[43marray\u001b[49m\u001b[43m(\u001b[49m\u001b[43m[\u001b[49m\u001b[38;5;241;43m0\u001b[39;49m\u001b[43m]\u001b[49m\u001b[43m)\u001b[49m\u001b[43m)\u001b[49m\n",
      "File \u001b[0;32m/opt/gym_dssat_pdi/lib/python3.10/site-packages/gym/wrappers/order_enforcing.py:11\u001b[0m, in \u001b[0;36mOrderEnforcing.step\u001b[0;34m(self, action)\u001b[0m\n\u001b[1;32m      9\u001b[0m \u001b[38;5;28;01mdef\u001b[39;00m \u001b[38;5;21mstep\u001b[39m(\u001b[38;5;28mself\u001b[39m, action):\n\u001b[1;32m     10\u001b[0m     \u001b[38;5;28;01massert\u001b[39;00m \u001b[38;5;28mself\u001b[39m\u001b[38;5;241m.\u001b[39m_has_reset, \u001b[38;5;124m\"\u001b[39m\u001b[38;5;124mCannot call env.step() before calling reset()\u001b[39m\u001b[38;5;124m\"\u001b[39m\n\u001b[0;32m---> 11\u001b[0m     observation, reward, done, info \u001b[38;5;241m=\u001b[39m \u001b[38;5;28;43mself\u001b[39;49m\u001b[38;5;241;43m.\u001b[39;49m\u001b[43menv\u001b[49m\u001b[38;5;241;43m.\u001b[39;49m\u001b[43mstep\u001b[49m\u001b[43m(\u001b[49m\u001b[43maction\u001b[49m\u001b[43m)\u001b[49m\n\u001b[1;32m     12\u001b[0m     \u001b[38;5;28;01mreturn\u001b[39;00m observation, reward, done, info\n",
      "File \u001b[0;32m/opt/gym_dssat_pdi/lib/python3.10/site-packages/gym_dssat_pdi/envs/dssat_pdi.py:418\u001b[0m, in \u001b[0;36mDssatPdi.step\u001b[0;34m(self, action_dict)\u001b[0m\n\u001b[1;32m    416\u001b[0m \u001b[38;5;28;01mif\u001b[39;00m \u001b[38;5;28mself\u001b[39m\u001b[38;5;241m.\u001b[39mdone:\n\u001b[1;32m    417\u001b[0m     warnings\u001b[38;5;241m.\u001b[39mwarn(\u001b[38;5;124m\"\u001b[39m\u001b[38;5;124mWarning: the environment is done ; you may call env.reset() or env.reset_hard()\u001b[39m\u001b[38;5;124m\"\u001b[39m)\n\u001b[0;32m--> 418\u001b[0m \u001b[38;5;28;01massert\u001b[39;00m \u001b[38;5;28misinstance\u001b[39m(action_dict, \u001b[38;5;28mdict\u001b[39m)\n\u001b[1;32m    419\u001b[0m \u001b[38;5;28;01mfor\u001b[39;00m available_action \u001b[38;5;129;01min\u001b[39;00m \u001b[38;5;28mself\u001b[39m\u001b[38;5;241m.\u001b[39maction_variables:\n\u001b[1;32m    420\u001b[0m     \u001b[38;5;28;01massert\u001b[39;00m available_action \u001b[38;5;129;01min\u001b[39;00m action_dict\n",
      "\u001b[0;31mAssertionError\u001b[0m: "
     ]
    }
   ],
   "source": [
    "env.step(np.array([0]))"
   ]
  },
  {
   "cell_type": "code",
   "execution_count": 9,
   "id": "0b6c8f88-6ede-4364-91be-f8238551998e",
   "metadata": {},
   "outputs": [
    {
     "data": {
      "text/plain": [
       "{'cumsumfert': 0.0,\n",
       " 'dap': 4379716,\n",
       " 'grnwt': 0.0,\n",
       " 'nfixn': 0.0,\n",
       " 'nstres': 0.0,\n",
       " 'pcnl': 0.0,\n",
       " 'pcnsd': 0.0,\n",
       " 'pltpop': 10.0,\n",
       " 'podwt': 0.0,\n",
       " 'sdlip': 0.11999999731779099,\n",
       " 'sdwt': 0.0,\n",
       " 'shelwt': 0.0,\n",
       " 'swfac': 0.0,\n",
       " 'topwt': 0.0,\n",
       " 'totwt': 0.0,\n",
       " 'turfac': 1.0,\n",
       " 'vstage': 0.0,\n",
       " 'wtntot': 0.0,\n",
       " 'wtnup': 0.0,\n",
       " 'xlai': 0.0}"
      ]
     },
     "execution_count": 9,
     "metadata": {},
     "output_type": "execute_result"
    }
   ],
   "source": [
    "a = []"
   ]
  },
  {
   "cell_type": "code",
   "execution_count": null,
   "id": "d45004ca-bb6d-41cd-9a26-ed3a11f6f9f8",
   "metadata": {},
   "outputs": [],
   "source": []
  }
 ],
 "metadata": {
  "kernelspec": {
   "display_name": "Python 3 (ipykernel)",
   "language": "python",
   "name": "python3"
  },
  "language_info": {
   "codemirror_mode": {
    "name": "ipython",
    "version": 3
   },
   "file_extension": ".py",
   "mimetype": "text/x-python",
   "name": "python",
   "nbconvert_exporter": "python",
   "pygments_lexer": "ipython3",
   "version": "3.10.12"
  }
 },
 "nbformat": 4,
 "nbformat_minor": 5
}
