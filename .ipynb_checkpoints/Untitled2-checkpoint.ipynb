{
 "cells": [
  {
   "cell_type": "code",
   "execution_count": 93,
   "id": "d901ac86-2494-4916-865f-54539cffc65a",
   "metadata": {},
   "outputs": [],
   "source": [
    "import numpy as np\n",
    "import pandas as pd\n",
    "import glob\n",
    "import matplotlib.pyplot as plt\n"
   ]
  },
  {
   "cell_type": "code",
   "execution_count": 117,
   "id": "12a2840b-8a79-4575-9ec5-e138b651d84b",
   "metadata": {},
   "outputs": [],
   "source": [
    "def get_epoch_max(lst):\n",
    "    output = []\n",
    "    for i in range(len(lst)-1):\n",
    "        if lst[i+1] < lst[i]:\n",
    "            output.append(lst[i])\n",
    "    return output\n",
    "    \n",
    "dicts = {}\n",
    "for fname in glob.glob(\"*_grainweights.txt\"):\n",
    "    name = fname.split(\"_\")\n",
    "    name = '_'.join([name[0], name[-2]])\n",
    "    with open(fname, 'r') as f:\n",
    "        lst = f.read().strip()[1:-1].replace(' ', '')\n",
    "        dicts[name] = [float(val) for val in lst.split(',')]\n",
    "        tmp = []\n",
    "        for i in range(400):\n",
    "            tmp.append(dicts[name][i*n//400:(i+1)*n//400])\n",
    "        dicts[name] = get_epoch_max(dicts[name])\n",
    "        # tmp = []\n",
    "        # prev = 0\n",
    "        # n = len(dicts[name])\n",
    "        # for i in range(n-1):\n",
    "        #     if i - prev > 1.3*n/400:\n",
    "        #         print(name, i, prev)\n",
    "        #         prev = i\n",
    "        #         tmp.append(0)\n",
    "        #         continue\n",
    "        #     if dicts[name][i] > dicts[name][i+1]:\n",
    "        #         print(name, 'a', i, prev)\n",
    "        #         prev = i\n",
    "        #         tmp.append(dicts[name][i])\n",
    "        #         continue\n",
    "        # dicts[name] = tmp\n",
    "        # n = len(dicts[name])\n",
    "        # dicts[name] = get_epoch_max(dicts[name])\n",
    "        # while len(dicts[name]) < 400:\n",
    "        #     dicts[name].append(0)"
   ]
  },
  {
   "cell_type": "code",
   "execution_count": 118,
   "id": "9c17fe9a-843b-4084-984f-e3b734f47269",
   "metadata": {},
   "outputs": [
    {
     "name": "stdout",
     "output_type": "stream",
     "text": [
      "cotton_A2C 400\n",
      "cotton_DDPG 400\n",
      "cotton_PPO 400\n",
      "cotton_SAC 400\n",
      "cotton_TD3 400\n",
      "cotton_expert 400\n",
      "cotton_null 400\n",
      "maize_A2C 399\n",
      "maize_DDPG 399\n",
      "maize_PPO 399\n",
      "maize_SAC 399\n",
      "maize_TD3 399\n",
      "maize_expert 399\n",
      "maize_null 399\n",
      "rice_A2C 229\n",
      "rice_DDPG 400\n",
      "rice_PPO 253\n",
      "rice_SAC 399\n",
      "rice_TD3 400\n",
      "rice_expert 229\n",
      "rice_null 229\n"
     ]
    }
   ],
   "source": [
    "for name in sorted(dicts.keys()):\n",
    "    lst = dicts[name]\n",
    "    print(name, len(lst))"
   ]
  },
  {
   "cell_type": "code",
   "execution_count": null,
   "id": "d4aa017b-0b33-4212-886d-c85bebf0bd26",
   "metadata": {},
   "outputs": [],
   "source": []
  }
 ],
 "metadata": {
  "kernelspec": {
   "display_name": "Python 3 (ipykernel)",
   "language": "python",
   "name": "python3"
  },
  "language_info": {
   "codemirror_mode": {
    "name": "ipython",
    "version": 3
   },
   "file_extension": ".py",
   "mimetype": "text/x-python",
   "name": "python",
   "nbconvert_exporter": "python",
   "pygments_lexer": "ipython3",
   "version": "3.10.12"
  }
 },
 "nbformat": 4,
 "nbformat_minor": 5
}
