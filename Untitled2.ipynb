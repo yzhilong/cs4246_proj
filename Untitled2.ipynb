{
 "cells": [
  {
   "cell_type": "code",
   "execution_count": 1,
   "id": "d901ac86-2494-4916-865f-54539cffc65a",
   "metadata": {},
   "outputs": [],
   "source": [
    "import numpy as np\n",
    "import pandas as pd\n",
    "import glob\n",
    "import matplotlib.pyplot as plt\n",
    "import seaborn as sns"
   ]
  },
  {
   "cell_type": "code",
   "execution_count": 14,
   "id": "12a2840b-8a79-4575-9ec5-e138b651d84b",
   "metadata": {},
   "outputs": [
    {
     "name": "stdout",
     "output_type": "stream",
     "text": [
      "cotton_True_all_123_PPO_grainweights.txt\n",
      "maize_True_all_123_TD3_grainweights.txt\n",
      "maize_True_all_123_null_grainweights.txt\n",
      "maize_True_all_123_expert_grainweights.txt\n",
      "maize_True_all_123_A2C_grainweights.txt\n",
      "rice_True_all_123_PPO_grainweights.txt\n",
      "cotton_True_all_123_A2C_grainweights.txt\n",
      "cotton_True_all_123_expert_grainweights.txt\n",
      "rice_True_all_123_null_grainweights.txt\n",
      "cotton_True_all_123_TD3_grainweights.txt\n",
      "rice_True_all_123_TD3_grainweights.txt\n",
      "cotton_True_all_123_DDPG_grainweights.txt\n",
      "rice_True_all_123_DDPG_grainweights.txt\n",
      "maize_True_all_123_SAC_grainweights.txt\n",
      "maize_True_all_123_PPO_grainweights.txt\n",
      "rice_True_all_123_SAC_grainweights.txt\n",
      "cotton_True_all_123_null_grainweights.txt\n",
      "cotton_True_all_123_SAC_grainweights.txt\n",
      "rice_True_all_123_expert_grainweights.txt\n",
      "rice_True_all_123_A2C_grainweights.txt\n",
      "maize_True_all_123_DDPG_grainweights.txt\n"
     ]
    }
   ],
   "source": [
    "def get_epoch_max(lst):\n",
    "    output = []\n",
    "    for i in range(len(lst)-1):\n",
    "        if lst[i+1] < lst[i]:\n",
    "            output.append(lst[i])\n",
    "    return output\n",
    "    \n",
    "dicts = {}\n",
    "for fname in glob.glob(\"*True_all_*_grainweights.txt\"):\n",
    "    print(fname)\n",
    "    name = fname.split(\"_\")\n",
    "    name = '_'.join([name[0], name[-2]])\n",
    "    with open(fname, 'r') as f:\n",
    "        lst = f.read().strip()[1:-1].replace(' ', '')\n",
    "        dicts[name] = [float(val) for val in lst.split(',')]\n",
    "        tmp = []\n",
    "        n = len(dicts[name])\n",
    "        for i in range(400):\n",
    "            tmp.append(dicts[name][i*n//400:(i+1)*n//400])\n",
    "        dicts[name] = get_epoch_max(dicts[name])\n",
    "        # tmp = []\n",
    "        # prev = 0\n",
    "        # n = len(dicts[name])\n",
    "        # for i in range(n-1):\n",
    "        #     if i - prev > 1.3*n/400:\n",
    "        #         print(name, i, prev)\n",
    "        #         prev = i\n",
    "        #         tmp.append(0)\n",
    "        #         continue\n",
    "        #     if dicts[name][i] > dicts[name][i+1]:\n",
    "        #         print(name, 'a', i, prev)\n",
    "        #         prev = i\n",
    "        #         tmp.append(dicts[name][i])\n",
    "        #         continue\n",
    "        # dicts[name] = tmp\n",
    "        # n = len(dicts[name])\n",
    "        # dicts[name] = get_epoch_max(dicts[name])\n",
    "        # while len(dicts[name]) < 400:\n",
    "        #     dicts[name].append(0)"
   ]
  },
  {
   "cell_type": "code",
   "execution_count": 16,
   "id": "9c17fe9a-843b-4084-984f-e3b734f47269",
   "metadata": {},
   "outputs": [
    {
     "name": "stdout",
     "output_type": "stream",
     "text": [
      "cotton_A2C 400 86.47080248750001 15.208856420499053\n",
      "cotton_DDPG 400 363.270464915 125.03422455526673\n",
      "cotton_PPO 400 116.22085295000001 17.985002247062116\n",
      "cotton_SAC 400 469.529015975 112.2940609128301\n",
      "cotton_TD3 400 363.270464915 125.03422455526673\n",
      "cotton_expert 400 538.682112225 68.5089513999759\n",
      "cotton_null 400 86.47080248750001 15.208856420499053\n",
      "maize_A2C 399 1111.4313803508771 383.6778226930313\n",
      "maize_DDPG 399 1111.4313803508771 383.6778226930313\n",
      "maize_PPO 399 4155.961377092732 2265.420294773228\n",
      "maize_SAC 399 5956.480580701754 2560.8603841593977\n",
      "maize_TD3 399 1111.4313803508771 383.6778226930313\n",
      "maize_expert 399 8280.567079197996 515.7197476559128\n",
      "maize_null 399 1111.4313803508771 383.6778226930313\n",
      "rice_A2C 229 134.49270645414848 150.60483866040832\n",
      "rice_DDPG 400 1.4537346754749998 0.6434952730386188\n",
      "rice_PPO 253 141.77708708300395 182.96435749599746\n",
      "rice_SAC 399 318.8235784335839 356.1032139671574\n",
      "rice_TD3 400 1.4537346754749998 0.6434952730386188\n",
      "rice_expert 229 134.49270645414848 150.60483866040832\n",
      "rice_null 229 134.49270645414848 150.60483866040832\n"
     ]
    }
   ],
   "source": [
    "for name in sorted(dicts.keys()):\n",
    "    lst = dicts[name]\n",
    "    print(name, len(lst), np.mean(lst), np.std(lst))"
   ]
  },
  {
   "cell_type": "code",
   "execution_count": null,
   "id": "fa50cb05-4465-4874-a891-7c6e3b4dcaf1",
   "metadata": {},
   "outputs": [],
   "source": []
  },
  {
   "cell_type": "code",
   "execution_count": 136,
   "id": "d4aa017b-0b33-4212-886d-c85bebf0bd26",
   "metadata": {},
   "outputs": [],
   "source": [
    "eval_outputs = sorted(glob.glob(\"eval*_fertilization*.txt\"))\n",
    "with open(\"eval_output_maize_True_fertilization_123.txt\", 'r') as f:\n",
    "    data = f.read()\n",
    "    data = data.strip().split('\\n')\n",
    "    data = {d.split(':')[0].strip(): [float(x) for x in d.split(':')[1].strip().replace(' ', '')[1:-1].split(',')] for d in data}\n",
    "    data = pd.DataFrame(data)"
   ]
  },
  {
   "cell_type": "code",
   "execution_count": 148,
   "id": "6996dc94-f046-41d1-90d9-9f51e2ac9fa8",
   "metadata": {},
   "outputs": [],
   "source": [
    "def plot_results(df):\n",
    "    labels = df.columns\n",
    "    returns = df.values.transpose()\n",
    "    data_dict = {}\n",
    "    for label, data in zip(labels, returns):\n",
    "        data_dict[label] = data\n",
    "    df = pd.DataFrame(data_dict)\n",
    "\n",
    "    ax = sns.boxplot(data=df)\n",
    "    ax.set_xlabel(\"policy\")\n",
    "    ax.set_ylabel(\"evaluation output\")\n",
    "    plt.show()"
   ]
  },
  {
   "cell_type": "code",
   "execution_count": 151,
   "id": "77f1497b-efca-4282-b05d-1a1a88cf3f7f",
   "metadata": {},
   "outputs": [
    {
     "data": {
      "image/png": "[encoded data removed]",
      "text/plain": [
       "<Figure size 640x480 with 1 Axes>"
      ]
     },
     "metadata": {},
     "output_type": "display_data"
    }
   ],
   "source": [
    "plot_results(data[['Null Agent', 'Expert Agent', 'PPO Agent']])"
   ]
  },
  {
   "cell_type": "code",
   "execution_count": null,
   "id": "9f223283-c1a5-42be-8d70-573c91d1d959",
   "metadata": {},
   "outputs": [],
   "source": []
  }
 ],
 "metadata": {
  "kernelspec": {
   "display_name": "Python 3 (ipykernel)",
   "language": "python",
   "name": "python3"
  },
  "language_info": {
   "codemirror_mode": {
    "name": "ipython",
    "version": 3
   },
   "file_extension": ".py",
   "mimetype": "text/x-python",
   "name": "python",
   "nbconvert_exporter": "python",
   "pygments_lexer": "ipython3",
   "version": "3.10.12"
  }
 },
 "nbformat": 4,
 "nbformat_minor": 5
}
